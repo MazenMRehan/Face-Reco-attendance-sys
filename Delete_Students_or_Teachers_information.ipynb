{
 "cells": [
  {
   "cell_type": "code",
   "execution_count": 1,
   "id": "4984c062-fd96-4af8-946f-0eff6da4986f",
   "metadata": {},
   "outputs": [],
   "source": [
    "import pandas as pd\n",
    "import numpy as np\n",
    "import redis"
   ]
  },
  {
   "cell_type": "code",
   "execution_count": 3,
   "id": "27f18bcf-9ab6-46d9-afd8-6360a78e5609",
   "metadata": {},
   "outputs": [],
   "source": [
    "# Connect to Redis Client\n",
    "hostname = 'redis-13651.c273.us-east-1-2.ec2.redns.redis-cloud.com'\n",
    "portnumber = 13651\n",
    "password = '7DNtqvNqIZv8F8K1kUB5cmjjXnFmpuyg'\n",
    "\n",
    "r = redis.StrictRedis(host=hostname,\n",
    "                      port=portnumber,\n",
    "                      password=password)"
   ]
  },
  {
   "cell_type": "code",
   "execution_count": 4,
   "id": "99cd8989-98c2-44f5-a420-4bfe9a71d161",
   "metadata": {},
   "outputs": [
    {
     "data": {
      "text/plain": [
       "True"
      ]
     },
     "execution_count": 4,
     "metadata": {},
     "output_type": "execute_result"
    }
   ],
   "source": [
    "r.ping()"
   ]
  },
  {
   "cell_type": "code",
   "execution_count": 5,
   "id": "c8575c2f-a8b4-4ee4-96df-75b73580a2d3",
   "metadata": {},
   "outputs": [
    {
     "data": {
      "text/plain": [
       "b'Mariam Wagdy@Student'    b'\\xe3r{\\xbe\\xc0\\x04_>*^\\x93\\xbe\\x80\\xf7\\xba>\\...\n",
       "b'Mazen Magdy@Student'     b'\\x8bq\\xc4\\xbd5\\xb3\\xd6>\\xa15V\\xbf\\x7f\\xa0\\xb...\n",
       "dtype: object"
      ]
     },
     "execution_count": 5,
     "metadata": {},
     "output_type": "execute_result"
    }
   ],
   "source": [
    "name = 'academy:register'\n",
    "register_series = pd.Series(r.hgetall(name))\n",
    "register_series"
   ]
  },
  {
   "cell_type": "code",
   "execution_count": 6,
   "id": "0c523435-aaf7-46d1-a837-c64fa53fd1e8",
   "metadata": {},
   "outputs": [
    {
     "data": {
      "text/plain": [
       "1"
      ]
     },
     "execution_count": 6,
     "metadata": {},
     "output_type": "execute_result"
    }
   ],
   "source": [
    "# delete keys/ fields\n",
    "key_to_del = 'Mariam Wagdy@Student'\n",
    "r.hdel(name, key_to_del)"
   ]
  },
  {
   "cell_type": "code",
   "execution_count": 9,
   "id": "70a503ae-172d-44ba-92c8-3dfd543d8c3c",
   "metadata": {},
   "outputs": [
    {
     "data": {
      "text/plain": [
       "Series([], dtype: object)"
      ]
     },
     "execution_count": 9,
     "metadata": {},
     "output_type": "execute_result"
    }
   ],
   "source": [
    "register_series = pd.Series(r.hgetall(name))\n",
    "register_series"
   ]
  },
  {
   "cell_type": "code",
   "execution_count": 8,
   "id": "d32ec20d-7199-4936-9e89-08c26bfabd71",
   "metadata": {},
   "outputs": [
    {
     "data": {
      "text/plain": [
       "1"
      ]
     },
     "execution_count": 8,
     "metadata": {},
     "output_type": "execute_result"
    }
   ],
   "source": [
    "key_to_del = 'Mazen Magdy@Student'\n",
    "r.hdel(name, key_to_del)"
   ]
  },
  {
   "cell_type": "code",
   "execution_count": null,
   "id": "9a1ff84e-a792-428b-a756-6a67bae34be9",
   "metadata": {},
   "outputs": [],
   "source": []
  },
  {
   "cell_type": "code",
   "execution_count": null,
   "id": "0f770c34-4766-42c9-b01e-99d6e8268415",
   "metadata": {},
   "outputs": [],
   "source": []
  }
 ],
 "metadata": {
  "kernelspec": {
   "display_name": "Python 3",
   "language": "python",
   "name": "python3"
  },
  "language_info": {
   "codemirror_mode": {
    "name": "ipython",
    "version": 3
   },
   "file_extension": ".py",
   "mimetype": "text/x-python",
   "name": "python",
   "nbconvert_exporter": "python",
   "pygments_lexer": "ipython3",
   "version": "3.12.9"
  }
 },
 "nbformat": 4,
 "nbformat_minor": 5
}
